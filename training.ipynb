{
 "cells": [
  {
   "cell_type": "code",
   "execution_count": 1,
   "metadata": {},
   "outputs": [],
   "source": [
    "import pandas as pd\n",
    "df1=pd.read_csv('final.csv')"
   ]
  },
  {
   "cell_type": "code",
   "execution_count": 2,
   "metadata": {},
   "outputs": [],
   "source": [
    "import numpy as np\n",
    "from sklearn.preprocessing import LabelEncoder\n",
    "numerical_features = df1.select_dtypes(include=[np.number]).columns.tolist()\n",
    "categorical_features = df1.select_dtypes(exclude=[np.number]).columns.tolist()"
   ]
  },
  {
   "cell_type": "code",
   "execution_count": 4,
   "metadata": {},
   "outputs": [],
   "source": [
    "encoders = {} \n",
    "\n",
    "for col in categorical_features:\n",
    "    le = LabelEncoder()\n",
    "    df1[col] = le.fit_transform(df1[col]) \n",
    "    encoders[col] = le "
   ]
  },
  {
   "cell_type": "code",
   "execution_count": 5,
   "metadata": {},
   "outputs": [
    {
     "data": {
      "text/plain": [
       "['gold', 'ClientType', 'Micromarket', 'DayOfWeek']"
      ]
     },
     "execution_count": 5,
     "metadata": {},
     "output_type": "execute_result"
    }
   ],
   "source": [
    "categorical_features"
   ]
  },
  {
   "cell_type": "code",
   "execution_count": 6,
   "metadata": {},
   "outputs": [
    {
     "data": {
      "text/plain": [
       "['inventory_id', 'Capacity', 'pre_booking', 'valid_from_hour', 'price']"
      ]
     },
     "execution_count": 6,
     "metadata": {},
     "output_type": "execute_result"
    }
   ],
   "source": [
    "numerical_features"
   ]
  },
  {
   "cell_type": "code",
   "execution_count": null,
   "metadata": {},
   "outputs": [],
   "source": [
    "import pickle\n",
    "import os\n",
    "import re\n",
    "\n",
    "\n",
    "def clean_filename(filename):\n",
    "    \"\"\"Removes invalid characters from filenames\"\"\"\n",
    "    return re.sub(r'[<>:\"/\\\\|?*]', '', filename).replace(\" \", \"_\")\n",
    "\n",
    "encoder_dir = \"label_encoders_1\"\n",
    "os.makedirs(encoder_dir, exist_ok=True) \n",
    "\n",
    "for col, encoder in encoders.items():\n",
    "    with open(f\"{encoder_dir}/{clean_filename(col)}_encoder.pkl\", \"wb\") as f:\n",
    "        pickle.dump(encoder, f)\n"
   ]
  },
  {
   "cell_type": "code",
   "execution_count": null,
   "metadata": {},
   "outputs": [],
   "source": [
    "final_df = df1[numerical_features + categorical_features]"
   ]
  },
  {
   "cell_type": "code",
   "execution_count": null,
   "metadata": {},
   "outputs": [],
   "source": [
    "empty_columns = final_df.columns[final_df.isnull().all()].tolist()\n",
    "print(empty_columns)"
   ]
  },
  {
   "cell_type": "code",
   "execution_count": null,
   "metadata": {},
   "outputs": [],
   "source": [
    "missing_values = final_df.isnull().sum()\n",
    "print(missing_values)"
   ]
  },
  {
   "cell_type": "code",
   "execution_count": null,
   "metadata": {},
   "outputs": [],
   "source": [
    "missing_price_rows = final_df[final_df['price'].isnull()]\n",
    "print(missing_price_rows)"
   ]
  },
  {
   "cell_type": "code",
   "execution_count": null,
   "metadata": {},
   "outputs": [],
   "source": [
    "import pandas as pd\n",
    "from pycaret.regression import *\n",
    "\n",
    "\n",
    "reg = setup(data=final_df, target='price', session_id=123, normalize=True)\n",
    "\n",
    "best_model = compare_models()\n",
    "\n",
    "print(best_model)\n"
   ]
  },
  {
   "cell_type": "code",
   "execution_count": null,
   "metadata": {},
   "outputs": [],
   "source": [
    "final_df.columns"
   ]
  },
  {
   "cell_type": "code",
   "execution_count": null,
   "metadata": {},
   "outputs": [],
   "source": [
    "best_model"
   ]
  },
  {
   "cell_type": "code",
   "execution_count": null,
   "metadata": {},
   "outputs": [],
   "source": [
    "import pandas as pd\n",
    "from sklearn.model_selection import train_test_split\n",
    "from sklearn.metrics import r2_score\n",
    "from sklearn.metrics import mean_squared_error\n",
    "\n",
    "final_model = finalize_model(best_model)\n",
    "\n",
    "df = final_df\n",
    "\n",
    "target = 'price'\n",
    "X = df.drop(columns=[target])\n",
    "y = df[target]\n",
    "\n",
    "X_train, X_test, y_train, y_test = train_test_split(X, y, test_size=0.2, random_state=42)\n",
    "\n",
    "final_model.fit(X_train, y_train)\n",
    "\n",
    "y_pred = final_model.predict(X_test)\n",
    "\n",
    "r2 = r2_score(y_test, y_pred)\n",
    "mse = mean_squared_error(y_test, y_pred)\n",
    "rmse = mse ** 0.5\n",
    "\n",
    "print(f\"R² Score: {r2:.4f}\")\n",
    "print(f\"Mean Squared Error: {mse:.4f}\")\n",
    "print(f\"Root Mean Squared Error: {rmse:.4f}\")\n"
   ]
  },
  {
   "cell_type": "code",
   "execution_count": null,
   "metadata": {},
   "outputs": [],
   "source": [
    "import mlflow\n",
    "import mlflow.sklearn\n",
    "\n",
    "# Start an MLflow run\n",
    "with mlflow.start_run():\n",
    "    \n",
    "    # Fit the model\n",
    "    final_model.fit(X_train, y_train)\n",
    "    \n",
    "    # Make predictions\n",
    "    y_pred = final_model.predict(X_test)\n",
    "    \n",
    "    # Evaluate the model\n",
    "    r2 = r2_score(y_test, y_pred)\n",
    "    mse = mean_squared_error(y_test, y_pred)\n",
    "    rmse = mse ** 0.5\n",
    "\n",
    "    # Log parameters (if applicable, e.g., hyperparameters)\n",
    "    mlflow.log_param(\"test_size\", 0.2)\n",
    "    mlflow.log_param(\"random_state\", 42)\n",
    "\n",
    "    # Log metrics\n",
    "    mlflow.log_metric(\"R2 Score\", r2)\n",
    "    mlflow.log_metric(\"MSE\", mse)\n",
    "    mlflow.log_metric(\"RMSE\", rmse)\n",
    "\n",
    "    # Log the trained model\n",
    "    mlflow.sklearn.log_model(final_model, \"model\")\n",
    "\n",
    "    print(f\"R² Score: {r2:.4f}\")\n",
    "    print(f\"Mean Squared Error: {mse:.4f}\")\n",
    "    print(f\"Root Mean Squared Error: {rmse:.4f}\")\n",
    "\n",
    "# End of MLflow tracking\n",
    "print(\"Training logged in MLflow!\")\n"
   ]
  },
  {
   "cell_type": "code",
   "execution_count": null,
   "metadata": {},
   "outputs": [],
   "source": [
    "import mlflow\n",
    "import mlflow.sklearn\n",
    "import os\n",
    "from sklearn.metrics import r2_score, mean_squared_error\n",
    "\n",
    "# Set DagsHub Tracking URI\n",
    "MLFLOW_TRACKING_URI = \"https://dagshub.com/kaarthikkvishwa/app.mlflow\"\n",
    "\n",
    "# Authenticate with DagsHub using Access Token\n",
    "os.environ[\"MLFLOW_TRACKING_USERNAME\"] = \"kaarthikkvishwa\"\n",
    "os.environ[\"MLFLOW_TRACKING_PASSWORD\"] = \"ff622802a60c8f6586599ad22f4ce79e52bff840\"\n",
    "\n",
    "# Set MLflow tracking server\n",
    "mlflow.set_tracking_uri(MLFLOW_TRACKING_URI)\n",
    "\n",
    "# Define Experiment Name\n",
    "mlflow.set_experiment(\"House_Price_Prediction\")\n",
    "\n",
    "# Start MLflow Run\n",
    "with mlflow.start_run() as run:\n",
    "    # Train the model\n",
    "    final_model.fit(X_train, y_train)\n",
    "    \n",
    "    # Make predictions\n",
    "    y_pred = final_model.predict(X_test)\n",
    "    \n",
    "    # Compute Metrics\n",
    "    r2 = r2_score(y_test, y_pred)\n",
    "    mse = mean_squared_error(y_test, y_pred)\n",
    "    rmse = mse ** 0.5\n",
    "\n",
    "    # Log Parameters\n",
    "    mlflow.log_param(\"test_size\", 0.2)\n",
    "    mlflow.log_param(\"random_state\", 42)\n",
    "\n",
    "    # Log Metrics\n",
    "    mlflow.log_metric(\"R2 Score\", r2)\n",
    "    mlflow.log_metric(\"MSE\", mse)\n",
    "    mlflow.log_metric(\"RMSE\", rmse)\n",
    "\n",
    "    # Log Model\n",
    "    model_info = mlflow.sklearn.log_model(final_model, \"model\")\n",
    "\n",
    "    print(f\"Model logged with R² Score: {r2:.4f}\")\n",
    "\n",
    "# Model Name in MLflow\n",
    "model_name = \"HousePriceModel\"\n",
    "\n",
    "# Fetch the Best Previous Model\n",
    "client = mlflow.tracking.MlflowClient()\n",
    "latest_versions = client.get_latest_versions(model_name)\n",
    "\n",
    "best_r2 = -float(\"inf\")\n",
    "best_version = None\n",
    "\n",
    "for version in latest_versions:\n",
    "    if version.run_id:  # Ensure run_id is valid\n",
    "        metrics = client.get_run(version.run_id).data.metrics\n",
    "        if \"R2 Score\" in metrics and metrics[\"R2 Score\"] > best_r2:\n",
    "            best_r2 = metrics[\"R2 Score\"]\n",
    "            best_version = version.version\n",
    "\n",
    "print(f\"Best previous model R² Score: {best_r2:.4f}\")\n",
    "\n",
    "# **Register the New Model Only if It’s Better**\n",
    "if r2 > best_r2:\n",
    "    print(f\"New model is better (R²: {r2:.4f}), updating the registry.\")\n",
    "    \n",
    "    registered_model = mlflow.register_model(model_info.model_uri, model_name)\n",
    "    \n",
    "    print(f\"Model registered as version {registered_model.version}\")\n",
    "    \n",
    "    # Optionally, move the best version to \"Production\"\n",
    "    client.transition_model_version_stage(name=model_name, version=registered_model.version, stage=\"Production\")\n",
    "\n",
    "else:\n",
    "    print(f\"New model is worse (R²: {r2:.4f}), keeping version {best_version}.\")"
   ]
  },
  {
   "cell_type": "code",
   "execution_count": null,
   "metadata": {},
   "outputs": [],
   "source": []
  }
 ],
 "metadata": {
  "kernelspec": {
   "display_name": "tf",
   "language": "python",
   "name": "python3"
  },
  "language_info": {
   "codemirror_mode": {
    "name": "ipython",
    "version": 3
   },
   "file_extension": ".py",
   "mimetype": "text/x-python",
   "name": "python",
   "nbconvert_exporter": "python",
   "pygments_lexer": "ipython3",
   "version": "3.11.11"
  }
 },
 "nbformat": 4,
 "nbformat_minor": 2
}
