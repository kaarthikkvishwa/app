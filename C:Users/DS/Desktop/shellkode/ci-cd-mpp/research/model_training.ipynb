{
 "cells": [
  {
   "cell_type": "code",
   "execution_count": 1,
   "id": "d0794f1d",
   "metadata": {},
   "outputs": [],
   "source": [
    "from dagshub.notebook import save_notebook\n",
    "\n",
    "save_notebook(repo=\"kaarthikkvishwa/app\", path=\".\")"
   ]
  }
 ],
 "metadata": {},
 "nbformat": 4,
 "nbformat_minor": 5
}
